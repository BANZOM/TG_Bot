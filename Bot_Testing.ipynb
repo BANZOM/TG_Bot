{
 "cells": [
  {
   "cell_type": "markdown",
   "metadata": {},
   "source": [
    "# TG Bot load and test the messages\n",
    "\n",
    "Package name=>python-telegram-bot is not installed on your python environment, either install it ( better to install requirements.txt altogether) or turn on environment variable EXHORT_PYTHON_VIRTUAL_ENV=true to automatically installs it on virtual environment ( will slow down the analysis)"
   ]
  },
  {
   "cell_type": "code",
   "execution_count": 1,
   "metadata": {},
   "outputs": [],
   "source": [
    "from dotenv import load_dotenv\n",
    "import os\n",
    "\n",
    "load_dotenv()\n",
    "\n",
    "# load the API key from the environment\n",
    "TOKEN = os.getenv(\"TOKEN\")\n",
    "\n",
    "# print(TOKEN)"
   ]
  },
  {
   "cell_type": "markdown",
   "metadata": {},
   "source": [
    "Persistent Data"
   ]
  },
  {
   "cell_type": "code",
   "execution_count": 2,
   "metadata": {},
   "outputs": [],
   "source": [
    "import sqlite3"
   ]
  },
  {
   "cell_type": "markdown",
   "metadata": {},
   "source": [
    "# Replying to /start"
   ]
  },
  {
   "cell_type": "code",
   "execution_count": 3,
   "metadata": {},
   "outputs": [],
   "source": [
    "from telegram.ext import Updater, CommandHandler, MessageHandler, Filters\n",
    "import logging\n",
    "\n",
    "# Enable logging\n",
    "logging.basicConfig(format='%(asctime)s - %(name)s - %(levelname)s - %(message)s', level=logging.INFO)\n",
    "logger = logging.getLogger(__name__)\n",
    "\n",
    "\n",
    "def start(update, context):\n",
    "    logger.info('User %s started the conversation.', update.message.from_user.first_name)\n",
    "    update.message.reply_text('Hello! This is your bot. Made with 🩷 by @AdityaPanwars')"
   ]
  },
  {
   "cell_type": "code",
   "execution_count": 5,
   "metadata": {},
   "outputs": [],
   "source": [
    "def save_note(update, context, cursor, conn):\n",
    "    # Check if the reply is a text message\n",
    "    if update.message.reply_to_message and update.message.reply_to_message.text:\n",
    "        # Get the text of the replied message\n",
    "        note_text = update.message.reply_to_message.text\n",
    "\n",
    "        # Get the note name from the command\n",
    "        command_parts = update.message.text.split()\n",
    "        if len(command_parts) >= 2:\n",
    "            note_name = command_parts[1]\n",
    "\n",
    "            # Save the note to SQLite database\n",
    "            cursor.execute('INSERT OR REPLACE INTO notes (note_name, note_text) VALUES (?, ?)', (note_name, note_text))\n",
    "            conn.commit()\n",
    "            update.message.reply_text(f'Note \"{note_name}\" saved successfully.')\n",
    "        else:\n",
    "            update.message.reply_text('Please provide a note name.')\n",
    "    else:\n",
    "        update.message.reply_text('Please reply to a text message to save a note.')\n",
    "\n",
    "    logger.info('User %s is saving a note.', update.message.from_user.first_name)\n"
   ]
  },
  {
   "cell_type": "code",
   "execution_count": 6,
   "metadata": {},
   "outputs": [],
   "source": [
    "def list_notes(update, context, cursor, conn):\n",
    "    # Retrieve all note names from SQLite database\n",
    "    cursor.execute('SELECT note_name FROM notes ORDER BY note_name ASC')\n",
    "    result = cursor.fetchall()\n",
    "    if result:\n",
    "        notes_list = \"\\n\".join([f\"#{note[0]}\" for note in result])\n",
    "        update.message.reply_text(f\"List of saved notes:\\n{notes_list}\")\n",
    "    else:\n",
    "        update.message.reply_text(\"No notes saved yet.\")\n",
    "\n",
    "    logger.info('User %s is listing the notes.', update.message.from_user.first_name)\n"
   ]
  },
  {
   "cell_type": "code",
   "execution_count": 7,
   "metadata": {},
   "outputs": [],
   "source": [
    "def retrieve_note(update, context, cursor, conn):\n",
    "    # Get the note name from the command\n",
    "    note_name = update.message.text.split('#')[1].strip()\n",
    "\n",
    "    cursor.execute('SELECT note_text FROM notes WHERE note_name = ?', (note_name,))\n",
    "    result = cursor.fetchone()\n",
    "\n",
    "    logger.info('User %s is retrieving a note.', update.message.from_user.first_name)\n",
    "\n",
    "    if result:\n",
    "        note_text = result[0]\n",
    "        update.message.reply_text(f'Note \"{note_name}\":\\n***********\\n\\n{note_text}')\n",
    "    else:\n",
    "        update.message.reply_text(f'Note \"{note_name}\" not found.')\n"
   ]
  },
  {
   "cell_type": "code",
   "execution_count": 8,
   "metadata": {},
   "outputs": [],
   "source": [
    "def main():\n",
    "    updater = Updater(TOKEN, use_context=True)\n",
    "    dp = updater.dispatcher\n",
    "    \n",
    "    # Connect to SQLite database\n",
    "    conn = sqlite3.connect('bot_data.db', check_same_thread=False)\n",
    "    cursor = conn.cursor()\n",
    "\n",
    "    # Create table if not exists\n",
    "    cursor.execute('''CREATE TABLE IF NOT EXISTS notes (\n",
    "                       note_name TEXT PRIMARY KEY,\n",
    "                       note_text TEXT\n",
    "                   )''')\n",
    "    conn.commit()\n",
    "\n",
    "    dp.add_handler(CommandHandler(\"start\", start))\n",
    "    dp.add_handler(CommandHandler(\"save\", lambda update, context: save_note(update, context, cursor, conn)))\n",
    "    dp.add_handler(MessageHandler(Filters.regex(r'#\\w+'), lambda update, context: retrieve_note(update, context, cursor, conn)))\n",
    "    dp.add_handler(CommandHandler(\"list\", lambda update, context: list_notes(update, context, cursor, conn)))\n",
    "    \n",
    "    updater.start_polling()\n",
    "    updater.idle()\n"
   ]
  },
  {
   "cell_type": "code",
   "execution_count": 9,
   "metadata": {},
   "outputs": [
    {
     "name": "stderr",
     "output_type": "stream",
     "text": [
      "2024-02-10 06:46:51,708 - apscheduler.scheduler - INFO - Scheduler started\n",
      "2024-02-10 06:46:58,586 - __main__ - INFO - User ᗩᕲᓰᖶᖻᗩ is listing the notes.\n",
      "2024-02-10 06:47:51,650 - telegram.ext.dispatcher - ERROR - No error handlers are registered, logging exception.\n",
      "Traceback (most recent call last):\n",
      "  File \"/home/aditya/Development/GitHub/TG_Bot/env/lib/python3.11/site-packages/telegram/ext/dispatcher.py\", line 555, in process_update\n",
      "    handler.handle_update(update, self, check, context)\n",
      "  File \"/home/aditya/Development/GitHub/TG_Bot/env/lib/python3.11/site-packages/telegram/ext/handler.py\", line 198, in handle_update\n",
      "    return self.callback(update, context)\n",
      "           ^^^^^^^^^^^^^^^^^^^^^^^^^^^^^^\n",
      "  File \"/tmp/ipykernel_20026/3112910245.py\", line 20, in <lambda>\n",
      "    dp.add_handler(MessageHandler(Filters.regex(r'#\\w+'), lambda update, context: retrieve_note(update, context, cursor, conn)))\n",
      "                                                                                  ^^^^^^^^^^^^^^^^^^^^^^^^^^^^^^^^^^^^^^^^^^^^\n",
      "  File \"/tmp/ipykernel_20026/3288978618.py\", line 3, in retrieve_note\n",
      "    note_name = update.message.text.split('#')[1].strip()\n",
      "                ^^^^^^^^^^^^^^^^^^^\n",
      "AttributeError: 'NoneType' object has no attribute 'text'\n",
      "2024-02-10 06:47:57,288 - __main__ - INFO - User ᗩᕲᓰᖶᖻᗩ is retrieving a note.\n"
     ]
    }
   ],
   "source": [
    "if __name__ == '__main__':\n",
    "    main()"
   ]
  }
 ],
 "metadata": {
  "kernelspec": {
   "display_name": "env",
   "language": "python",
   "name": "python3"
  },
  "language_info": {
   "codemirror_mode": {
    "name": "ipython",
    "version": 3
   },
   "file_extension": ".py",
   "mimetype": "text/x-python",
   "name": "python",
   "nbconvert_exporter": "python",
   "pygments_lexer": "ipython3",
   "version": "3.11.2"
  }
 },
 "nbformat": 4,
 "nbformat_minor": 2
}
