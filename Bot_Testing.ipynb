{
 "cells": [
  {
   "cell_type": "markdown",
   "metadata": {},
   "source": [
    "# TG Bot load and test the messages\n",
    "\n",
    "Package name=>python-telegram-bot is not installed on your python environment, either install it ( better to install requirements.txt altogether) or turn on environment variable EXHORT_PYTHON_VIRTUAL_ENV=true to automatically installs it on virtual environment ( will slow down the analysis)"
   ]
  },
  {
   "cell_type": "code",
   "execution_count": 8,
   "metadata": {},
   "outputs": [],
   "source": [
    "import requests\n",
    "import json\n",
    "from dotenv import load_dotenv\n",
    "import os\n",
    "\n",
    "load_dotenv()\n",
    "\n",
    "# load the API key from the environment\n",
    "TOKEN = os.getenv(\"TOKEN\")\n",
    "\n",
    "# print(TOKEN)"
   ]
  },
  {
   "cell_type": "markdown",
   "metadata": {},
   "source": [
    "# Replying to /start"
   ]
  },
  {
   "cell_type": "code",
   "execution_count": 11,
   "metadata": {},
   "outputs": [],
   "source": [
    "from telegram.ext import Updater, CommandHandler, MessageHandler, Filters\n",
    "import logging\n",
    "\n",
    "# Enable logging\n",
    "logging.basicConfig(format='%(asctime)s - %(name)s - %(levelname)s - %(message)s', level=logging.INFO)\n",
    "logger = logging.getLogger(__name__)\n",
    "\n",
    "\n",
    "def start(update, context):\n",
    "    update.message.reply_text('Hello! This is your bot.')"
   ]
  },
  {
   "cell_type": "code",
   "execution_count": 12,
   "metadata": {},
   "outputs": [],
   "source": [
    "def save_note(update, context):\n",
    "    # Check if the reply is a text message\n",
    "    if update.message.reply_to_message and update.message.reply_to_message.text:\n",
    "        # Get the text of the replied message\n",
    "        note_text = update.message.reply_to_message.text\n",
    "\n",
    "        # Get the note name from the command\n",
    "        command_parts = update.message.text.split()\n",
    "        if len(command_parts) >= 2:\n",
    "            note_name = command_parts[1]\n",
    "\n",
    "            # Save the note\n",
    "            context.user_data[note_name] = note_text\n",
    "            update.message.reply_text(f'Note \"{note_name}\" saved successfully.')\n",
    "        else:\n",
    "            update.message.reply_text('Please provide a note name.')"
   ]
  },
  {
   "cell_type": "code",
   "execution_count": 16,
   "metadata": {},
   "outputs": [],
   "source": [
    "def list_notes(update, context):\n",
    "    if context.user_data:\n",
    "        notes_list = \"\\n\".join([f\"#{note_name}\" for note_name in sorted(context.user_data.keys())])\n",
    "        update.message.reply_text(f\"List of saved notes:\\n{notes_list}\")\n",
    "    else:\n",
    "        update.message.reply_text(\"No notes saved yet.\")"
   ]
  },
  {
   "cell_type": "code",
   "execution_count": 13,
   "metadata": {},
   "outputs": [],
   "source": [
    "def retrieve_note(update, context):\n",
    "    # Get the note name from the command\n",
    "    note_name = update.message.text.split('#')[1].strip()\n",
    "\n",
    "    # Retrieve the note\n",
    "    note_text = context.user_data.get(note_name)\n",
    "\n",
    "    if note_text:\n",
    "        update.message.reply_text(f'Note \"{note_name}\":\\n{note_text}')\n",
    "    else:\n",
    "        update.message.reply_text(f'Note \"{note_name}\" not found.')"
   ]
  },
  {
   "cell_type": "code",
   "execution_count": 17,
   "metadata": {},
   "outputs": [],
   "source": [
    "def main():\n",
    "    updater = Updater(TOKEN, use_context=True)\n",
    "    dp = updater.dispatcher\n",
    "    \n",
    "    dp.add_handler(CommandHandler(\"start\", start))\n",
    "    dp.add_handler(CommandHandler(\"save\", save_note))\n",
    "    dp.add_handler(MessageHandler(Filters.regex(r'#\\w+'), retrieve_note))\n",
    "    dp.add_handler(CommandHandler(\"list\", list_notes))\n",
    "    \n",
    "    updater.start_polling()\n",
    "    updater.idle()"
   ]
  },
  {
   "cell_type": "code",
   "execution_count": 19,
   "metadata": {},
   "outputs": [
    {
     "name": "stderr",
     "output_type": "stream",
     "text": [
      "2024-02-09 20:59:18,715 - apscheduler.scheduler - INFO - Scheduler started\n",
      "2024-02-09 20:59:21,907 - telegram.ext.updater - INFO - Received signal 2 (SIGINT), stopping...\n",
      "2024-02-09 20:59:21,909 - apscheduler.scheduler - INFO - Scheduler has been shut down\n"
     ]
    }
   ],
   "source": [
    "if __name__ == '__main__':\n",
    "    main()"
   ]
  }
 ],
 "metadata": {
  "kernelspec": {
   "display_name": "env",
   "language": "python",
   "name": "python3"
  },
  "language_info": {
   "codemirror_mode": {
    "name": "ipython",
    "version": 3
   },
   "file_extension": ".py",
   "mimetype": "text/x-python",
   "name": "python",
   "nbconvert_exporter": "python",
   "pygments_lexer": "ipython3",
   "version": "3.11.2"
  }
 },
 "nbformat": 4,
 "nbformat_minor": 2
}
