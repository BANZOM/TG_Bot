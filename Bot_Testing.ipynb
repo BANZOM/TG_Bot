{
 "cells": [
  {
   "cell_type": "markdown",
   "metadata": {},
   "source": [
    "# TG Bot load and test the messages\n",
    "\n",
    "Package name=>python-telegram-bot is not installed on your python environment, either install it ( better to install requirements.txt altogether) or turn on environment variable EXHORT_PYTHON_VIRTUAL_ENV=true to automatically installs it on virtual environment ( will slow down the analysis)"
   ]
  },
  {
   "cell_type": "code",
   "execution_count": 1,
   "metadata": {},
   "outputs": [],
   "source": [
    "from dotenv import load_dotenv\n",
    "import os\n",
    "\n",
    "load_dotenv()\n",
    "\n",
    "# load the API key from the environment\n",
    "TOKEN = os.getenv(\"TOKEN\")\n",
    "\n",
    "# print(TOKEN)"
   ]
  },
  {
   "cell_type": "markdown",
   "metadata": {},
   "source": [
    "Persistent Data"
   ]
  },
  {
   "cell_type": "code",
   "execution_count": 2,
   "metadata": {},
   "outputs": [],
   "source": [
    "import sqlite3"
   ]
  },
  {
   "cell_type": "markdown",
   "metadata": {},
   "source": [
    "# Replying to /start"
   ]
  },
  {
   "cell_type": "code",
   "execution_count": 3,
   "metadata": {},
   "outputs": [],
   "source": [
    "from telegram.ext import Updater, CommandHandler, MessageHandler, Filters\n",
    "import logging\n",
    "from logging.handlers import RotatingFileHandler\n",
    "\n",
    "# Enable logging\n",
    "logging.basicConfig(format='%(asctime)s - %(name)s - %(levelname)s - %(message)s', level=logging.INFO)\n",
    "logger = logging.getLogger(__name__)\n",
    "\n",
    "# find handler for log messages\n",
    "file_handler = RotatingFileHandler('bot.log', maxBytes=5*1024*1024, backupCount=5)\n",
    "file_handler.setLevel(logging.INFO)\n",
    "formatter = logging.Formatter('%(asctime)s - %(name)s - %(levelname)s - %(message)s')\n",
    "file_handler.setFormatter(formatter)\n",
    "logger.addHandler(file_handler)\n",
    "\n",
    "\n",
    "def start(update, context):\n",
    "    logger.info('User %s started the conversation.', update.message.from_user.first_name)\n",
    "    update.message.reply_text('Hello! This is your bot. Made with 🩷 by @AdityaPanwars')"
   ]
  },
  {
   "cell_type": "code",
   "execution_count": 4,
   "metadata": {},
   "outputs": [],
   "source": [
    "def save_note(update, context, cursor, conn):\n",
    "    # Check if the reply is a text message\n",
    "    if update.message.reply_to_message and update.message.reply_to_message.text:\n",
    "        # Get the text of the replied message\n",
    "        note_text = update.message.reply_to_message.text\n",
    "\n",
    "        # Get the note name from the command\n",
    "        command_parts = update.message.text.split()\n",
    "        if len(command_parts) >= 2:\n",
    "            note_name = command_parts[1]\n",
    "\n",
    "            # Save the note to SQLite database\n",
    "            cursor.execute('INSERT OR REPLACE INTO notes (note_name, note_text) VALUES (?, ?)', (note_name, note_text))\n",
    "            conn.commit()\n",
    "            update.message.reply_text(f'Note \"{note_name}\" saved successfully.')\n",
    "        else:\n",
    "            update.message.reply_text('Please provide a note name.')\n",
    "    else:\n",
    "        update.message.reply_text('Please reply to a text message to save a note.')\n",
    "\n",
    "    logger.info('User %s is saving a note.', update.message.from_user.first_name)\n"
   ]
  },
  {
   "cell_type": "code",
   "execution_count": 5,
   "metadata": {},
   "outputs": [],
   "source": [
    "def list_notes(update, context, cursor, conn):\n",
    "    # check if the user passes the prefix\n",
    "    if len(context.args) > 0:\n",
    "        prefix = context.args[0]\n",
    "        cursor.execute('SELECT note_name FROM notes WHERE note_name LIKE ? ORDER BY note_name ASC', (prefix + '%',))\n",
    "    else:\n",
    "        cursor.execute('SELECT note_name FROM notes ORDER BY note_name ASC')\n",
    "    \n",
    "    result = cursor.fetchall()\n",
    "\n",
    "    if result:\n",
    "        notes_list = \"\\n\".join([f\"#{note[0]}\" for note in result])\n",
    "        update.message.reply_text(f\"List of saved notes:\\n{notes_list}\")\n",
    "    else:\n",
    "        update.message.reply_text(\"No notes saved yet.\")\n",
    "\n",
    "    logger.info('User %s is listing the notes.', update.message.from_user.first_name)\n"
   ]
  },
  {
   "cell_type": "code",
   "execution_count": 6,
   "metadata": {},
   "outputs": [],
   "source": [
    "def retrieve_note(update, context, cursor, conn):\n",
    "    # Get the note name from the command\n",
    "    note_name = update.message.text.split('#')[1].strip()\n",
    "\n",
    "    cursor.execute('SELECT note_text FROM notes WHERE note_name = ?', (note_name,))\n",
    "    result = cursor.fetchone()\n",
    "\n",
    "    logger.info('User %s is retrieving a note.', update.message.from_user.first_name)\n",
    "\n",
    "    if result:\n",
    "        note_text = result[0]\n",
    "        update.message.reply_text(f'Note \"{note_name}\":\\n***********\\n\\n{note_text}')\n",
    "    else:\n",
    "        update.message.reply_text(f'Note \"{note_name}\" not found.')\n"
   ]
  },
  {
   "cell_type": "code",
   "execution_count": 7,
   "metadata": {},
   "outputs": [],
   "source": [
    "def delete_note(update, context, cursor, conn):\n",
    "    # if the user passes empty arguments\n",
    "    if len(context.args) == 0:\n",
    "        update.message.reply_text('Please provide a note name.')\n",
    "        return\n",
    "\n",
    "    # Get the note name from the command\n",
    "    note_name = update.message.text.split(' ')[1]\n",
    "\n",
    "    cursor.execute('SELECT * FROM notes WHERE note_name = ?', (note_name,))\n",
    "    result = cursor.fetchone()\n",
    "\n",
    "    if result:\n",
    "        cursor.execute('DELETE FROM notes WHERE note_name = ?', (note_name,))\n",
    "        conn.commit()\n",
    "\n",
    "        logger.info('User %s is deleting a note.', update.message.from_user.first_name)\n",
    "\n",
    "        update.message.reply_text(f'Note \"{note_name}\" deleted successfully.')\n",
    "    else:\n",
    "        update.message.reply_text(f'Note \"{note_name}\" does not exist.')\n",
    "\n"
   ]
  },
  {
   "cell_type": "code",
   "execution_count": 8,
   "metadata": {},
   "outputs": [],
   "source": [
    "def update_note(update, context, cursor, conn):\n",
    "    # Check if the reply is a text message\n",
    "    if update.message.reply_to_message and update.message.reply_to_message.text:\n",
    "        # Get the text of the replied message\n",
    "        note_text = update.message.reply_to_message.text\n",
    "\n",
    "        # Get the note name from the command\n",
    "        command_parts = update.message.text.split()\n",
    "        if len(command_parts) >= 2:\n",
    "            note_name = command_parts[1]\n",
    "\n",
    "            # Check if the note exists\n",
    "            cursor.execute('SELECT * FROM notes WHERE note_name = ?', (note_name,))\n",
    "            result = cursor.fetchone()\n",
    "\n",
    "            if result:\n",
    "                # Update the note in the SQLite database\n",
    "                cursor.execute('UPDATE notes SET note_text = ? WHERE note_name = ?', (note_text, note_name))\n",
    "                conn.commit()\n",
    "                update.message.reply_text(f'Note \"{note_name}\" updated successfully.')\n",
    "            else:\n",
    "                update.message.reply_text(f'Note \"{note_name}\" does not exist.')\n",
    "        else:\n",
    "            update.message.reply_text('Please provide a note name.')\n",
    "    else:\n",
    "        update.message.reply_text('Please reply to a text message to update a note.')\n",
    "\n",
    "    logger.info('User %s is updating a note.', update.message.from_user.first_name)\n"
   ]
  },
  {
   "cell_type": "code",
   "execution_count": 9,
   "metadata": {},
   "outputs": [],
   "source": [
    "def help(update, context):\n",
    "    update.message.reply_text('The following commands are available:\\n\\n'\n",
    "                              '/start - Start the bot\\n'\n",
    "                              '/notes - List all saved notes\\n'\n",
    "                              '/notes <prefix> - List notes starting with the prefix\\n'\n",
    "                              '/save <note_name> - Save a note\\n'\n",
    "                              '#<note_name> - Retrieve a note\\n'\n",
    "                              '/delete <note_name> - Delete a note\\n'\n",
    "                              '/update <note_name> - Update a note\\n'\n",
    "                              '/help - Show this help message')\n",
    "\n",
    "    logger.info('User %s is asking for help.', update.message.from_user.first_name)"
   ]
  },
  {
   "cell_type": "code",
   "execution_count": 10,
   "metadata": {},
   "outputs": [],
   "source": [
    "def main():\n",
    "    updater = Updater(TOKEN, use_context=True)\n",
    "    dp = updater.dispatcher\n",
    "    \n",
    "    # Connect to SQLite database\n",
    "    conn = sqlite3.connect('bot_data.db', check_same_thread=False)\n",
    "    cursor = conn.cursor()\n",
    "\n",
    "    # Create table if not exists\n",
    "    cursor.execute('''CREATE TABLE IF NOT EXISTS notes (\n",
    "                       note_name TEXT PRIMARY KEY,\n",
    "                       note_text TEXT\n",
    "                   )''')\n",
    "    conn.commit()\n",
    "\n",
    "    dp.add_handler(CommandHandler(\"start\", start))\n",
    "    dp.add_handler(CommandHandler(\"save\", lambda update, context: save_note(update, context, cursor, conn)))\n",
    "    dp.add_handler(MessageHandler(Filters.regex(r'#\\w+'), lambda update, context: retrieve_note(update, context, cursor, conn)))\n",
    "    dp.add_handler(CommandHandler(\"notes\", lambda update, context: list_notes(update, context, cursor, conn)))\n",
    "    dp.add_handler(CommandHandler(\"help\", help))    \n",
    "    dp.add_handler(CommandHandler(\"delete\", lambda update, context: delete_note(update, context, cursor, conn)))\n",
    "    dp.add_handler(CommandHandler(\"update\", lambda update, context: update_note(update, context, cursor, conn)))\n",
    "    updater.start_polling()\n",
    "    updater.idle()\n"
   ]
  },
  {
   "cell_type": "code",
   "execution_count": 11,
   "metadata": {},
   "outputs": [
    {
     "name": "stderr",
     "output_type": "stream",
     "text": [
      "2024-02-10 11:15:26,726 - apscheduler.scheduler - INFO - Scheduler started\n",
      "2024-02-10 11:15:32,804 - __main__ - INFO - User ᗩᕲᓰᖶᖻᗩ started the conversation.\n",
      "2024-02-10 11:15:41,675 - __main__ - INFO - User ᗩᕲᓰᖶᖻᗩ is asking for help.\n",
      "2024-02-10 11:15:46,676 - __main__ - INFO - User ᗩᕲᓰᖶᖻᗩ is listing the notes.\n",
      "2024-02-10 11:15:52,706 - __main__ - INFO - User ᗩᕲᓰᖶᖻᗩ is listing the notes.\n",
      "2024-02-10 11:15:57,138 - telegram.ext.dispatcher - ERROR - No error handlers are registered, logging exception.\n",
      "Traceback (most recent call last):\n",
      "  File \"/home/aditya/Development/GitHub/TG_Bot/env/lib/python3.11/site-packages/telegram/ext/dispatcher.py\", line 555, in process_update\n",
      "    handler.handle_update(update, self, check, context)\n",
      "  File \"/home/aditya/Development/GitHub/TG_Bot/env/lib/python3.11/site-packages/telegram/ext/handler.py\", line 198, in handle_update\n",
      "    return self.callback(update, context)\n",
      "           ^^^^^^^^^^^^^^^^^^^^^^^^^^^^^^\n",
      "  File \"/tmp/ipykernel_17332/2136669735.py\", line 19, in <lambda>\n",
      "    dp.add_handler(CommandHandler(\"notes\", lambda update, context: list_notes(update, context, cursor, conn)))\n",
      "                                                                   ^^^^^^^^^^^^^^^^^^^^^^^^^^^^^^^^^^^^^^^^^\n",
      "  File \"/tmp/ipykernel_17332/1407034677.py\", line 13, in list_notes\n",
      "    update.message.reply_text(f\"List of saved notes:\\n{notes_list}\")\n",
      "    ^^^^^^^^^^^^^^^^^^^^^^^^^\n",
      "AttributeError: 'NoneType' object has no attribute 'reply_text'\n",
      "2024-02-10 11:16:01,183 - __main__ - INFO - User ᗩᕲᓰᖶᖻᗩ is listing the notes.\n",
      "2024-02-10 11:16:24,294 - __main__ - INFO - User ᗩᕲᓰᖶᖻᗩ is saving a note.\n",
      "2024-02-10 11:16:27,921 - __main__ - INFO - User ᗩᕲᓰᖶᖻᗩ is listing the notes.\n",
      "2024-02-10 11:16:34,248 - __main__ - INFO - User ᗩᕲᓰᖶᖻᗩ is asking for help.\n",
      "2024-02-10 11:16:42,399 - __main__ - INFO - User ᗩᕲᓰᖶᖻᗩ is retrieving a note.\n",
      "2024-02-10 11:16:51,782 - __main__ - INFO - User ᗩᕲᓰᖶᖻᗩ is updating a note.\n",
      "2024-02-10 11:17:05,854 - __main__ - INFO - User ᗩᕲᓰᖶᖻᗩ is updating a note.\n",
      "2024-02-10 11:17:19,160 - __main__ - INFO - User ᗩᕲᓰᖶᖻᗩ is updating a note.\n",
      "2024-02-10 11:17:23,958 - __main__ - INFO - User ᗩᕲᓰᖶᖻᗩ is listing the notes.\n",
      "2024-02-10 11:17:28,686 - __main__ - INFO - User ᗩᕲᓰᖶᖻᗩ is retrieving a note.\n",
      "2024-02-10 11:22:01,887 - __main__ - INFO - User ᗩᕲᓰᖶᖻᗩ is listing the notes.\n",
      "2024-02-10 11:22:08,735 - __main__ - INFO - User ᗩᕲᓰᖶᖻᗩ is listing the notes.\n",
      "2024-02-10 11:28:43,601 - telegram.ext.dispatcher - ERROR - No error handlers are registered, logging exception.\n",
      "Traceback (most recent call last):\n",
      "  File \"/home/aditya/Development/GitHub/TG_Bot/env/lib/python3.11/site-packages/telegram/ext/dispatcher.py\", line 555, in process_update\n",
      "    handler.handle_update(update, self, check, context)\n",
      "  File \"/home/aditya/Development/GitHub/TG_Bot/env/lib/python3.11/site-packages/telegram/ext/handler.py\", line 198, in handle_update\n",
      "    return self.callback(update, context)\n",
      "           ^^^^^^^^^^^^^^^^^^^^^^^^^^^^^^\n",
      "  File \"/tmp/ipykernel_17332/2136669735.py\", line 19, in <lambda>\n",
      "    dp.add_handler(CommandHandler(\"notes\", lambda update, context: list_notes(update, context, cursor, conn)))\n",
      "                                                                   ^^^^^^^^^^^^^^^^^^^^^^^^^^^^^^^^^^^^^^^^^\n",
      "  File \"/tmp/ipykernel_17332/1407034677.py\", line 15, in list_notes\n",
      "    update.message.reply_text(\"No notes saved yet.\")\n",
      "    ^^^^^^^^^^^^^^^^^^^^^^^^^\n",
      "AttributeError: 'NoneType' object has no attribute 'reply_text'\n"
     ]
    }
   ],
   "source": [
    "if __name__ == '__main__':\n",
    "    main()"
   ]
  }
 ],
 "metadata": {
  "kernelspec": {
   "display_name": "env",
   "language": "python",
   "name": "python3"
  },
  "language_info": {
   "codemirror_mode": {
    "name": "ipython",
    "version": 3
   },
   "file_extension": ".py",
   "mimetype": "text/x-python",
   "name": "python",
   "nbconvert_exporter": "python",
   "pygments_lexer": "ipython3",
   "version": "3.11.2"
  }
 },
 "nbformat": 4,
 "nbformat_minor": 2
}
